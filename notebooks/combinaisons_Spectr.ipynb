{
 "cells": [
  {
   "cell_type": "code",
   "execution_count": 2,
   "id": "7855942e-ec01-4292-a55d-5aee4cbe0ac5",
   "metadata": {},
   "outputs": [
    {
     "ename": "ModuleNotFoundError",
     "evalue": "No module named 'pandas'",
     "output_type": "error",
     "traceback": [
      "\u001b[31m---------------------------------------------------------------------------\u001b[39m",
      "\u001b[31mModuleNotFoundError\u001b[39m                       Traceback (most recent call last)",
      "\u001b[36mCell\u001b[39m\u001b[36m \u001b[39m\u001b[32mIn[2]\u001b[39m\u001b[32m, line 1\u001b[39m\n\u001b[32m----> \u001b[39m\u001b[32m1\u001b[39m \u001b[38;5;28;01mimport\u001b[39;00m\u001b[38;5;250m \u001b[39m\u001b[34;01mpandas\u001b[39;00m\u001b[38;5;250m \u001b[39m\u001b[38;5;28;01mas\u001b[39;00m\u001b[38;5;250m \u001b[39m\u001b[34;01mpd\u001b[39;00m\n\u001b[32m      3\u001b[39m \u001b[38;5;66;03m# Remplace par le chemin réel de ton fichier Excel\u001b[39;00m\n\u001b[32m      5\u001b[39m fichier_excel = \u001b[33m\"\u001b[39m\u001b[33mdonnees_gaz.xlsx\u001b[39m\u001b[33m\"\u001b[39m\n",
      "\u001b[31mModuleNotFoundError\u001b[39m: No module named 'pandas'"
     ]
    }
   ],
   "source": [
    "import pandas as pd\n",
    " \n",
    "# Remplace par le chemin réel de ton fichier Excel\n",
    "\n",
    "fichier_excel = \"donnees_gaz.xlsx\"\n",
    " \n",
    "# Lire la première feuille du fichier Excel\n",
    "\n",
    "df = pd.read_excel(fichier_excel)\n",
    " \n",
    "# Affiche les premières lignes pour voir ce que contient le fichier\n",
    "\n",
    "print(\"Aperçu des données :\")\n",
    "\n",
    "print(df.head())\n",
    " \n",
    "# Liste des colonnes\n",
    "\n",
    "print(\"\\nColonnes disponibles :\")\n",
    "\n",
    "print(df.columns)\n",
    "\n",
    " \n",
    "# Filtrer uniquement les lignes avec une certaine molécule (par ex. CO2)\n",
    "\n",
    "df_co2 = df[df['Molecule'] == 'CO2']\n",
    " \n",
    "# Afficher les longueurs d'onde et intensités pour CO2\n",
    "\n",
    "print(\"\\nDonnées pour CO2 :\")\n",
    "\n",
    "print(df_co2[['Wavelength (cm⁻¹)', 'Intensity']])\n",
    "\n",
    " "
   ]
  }
 ],
 "metadata": {
  "kernelspec": {
   "display_name": "Python 3 (ipykernel)",
   "language": "python",
   "name": "python3"
  },
  "language_info": {
   "codemirror_mode": {
    "name": "ipython",
    "version": 3
   },
   "file_extension": ".py",
   "mimetype": "text/x-python",
   "name": "python",
   "nbconvert_exporter": "python",
   "pygments_lexer": "ipython3",
   "version": "3.13.5"
  }
 },
 "nbformat": 4,
 "nbformat_minor": 5
}
